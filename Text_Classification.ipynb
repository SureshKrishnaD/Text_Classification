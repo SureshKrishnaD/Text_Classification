{
 "cells": [
  {
   "cell_type": "code",
   "execution_count": 14,
   "id": "6acf209f",
   "metadata": {},
   "outputs": [
    {
     "data": {
      "text/html": [
       "<div>\n",
       "<style scoped>\n",
       "    .dataframe tbody tr th:only-of-type {\n",
       "        vertical-align: middle;\n",
       "    }\n",
       "\n",
       "    .dataframe tbody tr th {\n",
       "        vertical-align: top;\n",
       "    }\n",
       "\n",
       "    .dataframe thead th {\n",
       "        text-align: right;\n",
       "    }\n",
       "</style>\n",
       "<table border=\"1\" class=\"dataframe\">\n",
       "  <thead>\n",
       "    <tr style=\"text-align: right;\">\n",
       "      <th></th>\n",
       "      <th>category</th>\n",
       "      <th>text</th>\n",
       "      <th>category_um</th>\n",
       "    </tr>\n",
       "  </thead>\n",
       "  <tbody>\n",
       "    <tr>\n",
       "      <th>0</th>\n",
       "      <td>Household</td>\n",
       "      <td>SAF 'Floral' Framed Painting (Wood, 30 inch x ...</td>\n",
       "      <td>0</td>\n",
       "    </tr>\n",
       "    <tr>\n",
       "      <th>1</th>\n",
       "      <td>Household</td>\n",
       "      <td>SAF 'UV Textured Modern Art Print Framed' Pain...</td>\n",
       "      <td>0</td>\n",
       "    </tr>\n",
       "    <tr>\n",
       "      <th>2</th>\n",
       "      <td>Household</td>\n",
       "      <td>SAF Flower Print Framed Painting (Synthetic, 1...</td>\n",
       "      <td>0</td>\n",
       "    </tr>\n",
       "    <tr>\n",
       "      <th>3</th>\n",
       "      <td>Household</td>\n",
       "      <td>Incredible Gifts India Wooden Happy Birthday U...</td>\n",
       "      <td>0</td>\n",
       "    </tr>\n",
       "    <tr>\n",
       "      <th>4</th>\n",
       "      <td>Household</td>\n",
       "      <td>Pitaara Box Romantic Venice Canvas Painting 6m...</td>\n",
       "      <td>0</td>\n",
       "    </tr>\n",
       "    <tr>\n",
       "      <th>...</th>\n",
       "      <td>...</td>\n",
       "      <td>...</td>\n",
       "      <td>...</td>\n",
       "    </tr>\n",
       "    <tr>\n",
       "      <th>9994</th>\n",
       "      <td>Electronics</td>\n",
       "      <td>HP 14-inch HD SVA 1366x768 Display Chromebook(...</td>\n",
       "      <td>3</td>\n",
       "    </tr>\n",
       "    <tr>\n",
       "      <th>9995</th>\n",
       "      <td>Electronics</td>\n",
       "      <td>Acer Switch Atom 10.1-inch Laptop (2GB/32GB/Wi...</td>\n",
       "      <td>3</td>\n",
       "    </tr>\n",
       "    <tr>\n",
       "      <th>9996</th>\n",
       "      <td>Electronics</td>\n",
       "      <td>Acer 2017 R11 11.6-inch Convertible 2-in-1 HD ...</td>\n",
       "      <td>3</td>\n",
       "    </tr>\n",
       "    <tr>\n",
       "      <th>9997</th>\n",
       "      <td>Electronics</td>\n",
       "      <td>RDP ThinBook 1430-EC1 14.1 inch Laptop (Intel ...</td>\n",
       "      <td>3</td>\n",
       "    </tr>\n",
       "    <tr>\n",
       "      <th>9998</th>\n",
       "      <td>Electronics</td>\n",
       "      <td>Taslar Briefcase Messenger Shoulder Bag Strap ...</td>\n",
       "      <td>3</td>\n",
       "    </tr>\n",
       "  </tbody>\n",
       "</table>\n",
       "<p>9999 rows × 3 columns</p>\n",
       "</div>"
      ],
      "text/plain": [
       "         category                                               text  \\\n",
       "0       Household  SAF 'Floral' Framed Painting (Wood, 30 inch x ...   \n",
       "1       Household  SAF 'UV Textured Modern Art Print Framed' Pain...   \n",
       "2       Household  SAF Flower Print Framed Painting (Synthetic, 1...   \n",
       "3       Household  Incredible Gifts India Wooden Happy Birthday U...   \n",
       "4       Household  Pitaara Box Romantic Venice Canvas Painting 6m...   \n",
       "...           ...                                                ...   \n",
       "9994  Electronics  HP 14-inch HD SVA 1366x768 Display Chromebook(...   \n",
       "9995  Electronics  Acer Switch Atom 10.1-inch Laptop (2GB/32GB/Wi...   \n",
       "9996  Electronics  Acer 2017 R11 11.6-inch Convertible 2-in-1 HD ...   \n",
       "9997  Electronics  RDP ThinBook 1430-EC1 14.1 inch Laptop (Intel ...   \n",
       "9998  Electronics  Taslar Briefcase Messenger Shoulder Bag Strap ...   \n",
       "\n",
       "      category_um  \n",
       "0               0  \n",
       "1               0  \n",
       "2               0  \n",
       "3               0  \n",
       "4               0  \n",
       "...           ...  \n",
       "9994            3  \n",
       "9995            3  \n",
       "9996            3  \n",
       "9997            3  \n",
       "9998            3  \n",
       "\n",
       "[9999 rows x 3 columns]"
      ]
     },
     "execution_count": 14,
     "metadata": {},
     "output_type": "execute_result"
    }
   ],
   "source": [
    "#using TF-IDF\n",
    "#Term Frequency-Inverse Document Frequency\n",
    "\n",
    "#data preprocessing\n",
    "import pandas as pd\n",
    "\n",
    "data = pd.read_excel(r\"C:\\Users\\suresh\\Desktop2\\Machine Learning\\Text_Classification\\ecommerce_Dataset.xlsx\")\n",
    "#renaming the column names in the dataset\n",
    "data.rename(columns={'Paper Plane Design Framed Wall Hanging Motivational Office Decor Art Prints (8.7 X 8.7 inch) - Set of 4 Painting made up in synthetic frame with uv textured print which gives multi effects and attracts towards it. This is an special series of paintings which makes your wall very beautiful and gives a royal touch. This painting is ready to hang, you would be proud to possess this unique painting that is a niche apart. We use only the most modern and efficient printing technology on our prints, with only the and inks and precision epson, roland and hp printers. This innovative hd printing technique results in durable and spectacular looking prints of the highest that last a lifetime. We print solely with top-notch 100% inks, to achieve brilliant and true colours. Due to their high level of uv resistance, our prints retain their beautiful colours for many years. Add colour and style to your living space with this digitally printed painting. Some are for pleasure and some for eternal bliss.so bring home this elegant print that is lushed with rich colors that makes it nothing but sheer elegance to be to your friends and family.it would be treasured forever by whoever your lucky recipient is. Liven up your place with these intriguing paintings that are high definition hd graphic digital prints for home, office or any room.':'text'},inplace=True)\n",
    "\n",
    "data.rename(columns={'Household':'category'},inplace=True)\n",
    "\n",
    "#encoding the columns\n",
    "data['category_um']=data['category'].map({\n",
    "    'Household':0,\n",
    "    'Books':1,\n",
    "    'Clothing & Accessories':2,\n",
    "    'Electronics':3\n",
    "})\n",
    "\n",
    "data"
   ]
  },
  {
   "cell_type": "code",
   "execution_count": 15,
   "id": "aa25bab9",
   "metadata": {},
   "outputs": [
    {
     "data": {
      "text/plain": [
       "Books                     2500\n",
       "Clothing & Accessories    2500\n",
       "Electronics               2500\n",
       "Household                 2499\n",
       "Name: category, dtype: int64"
      ]
     },
     "execution_count": 15,
     "metadata": {},
     "output_type": "execute_result"
    }
   ],
   "source": [
    "data.category.value_counts()"
   ]
  },
  {
   "cell_type": "code",
   "execution_count": 17,
   "id": "fa020c08",
   "metadata": {},
   "outputs": [
    {
     "data": {
      "text/plain": [
       "Household                 2400\n",
       "Books                     2400\n",
       "Electronics               2400\n",
       "Clothing & Accessories    2400\n",
       "Name: category, dtype: int64"
      ]
     },
     "execution_count": 17,
     "metadata": {},
     "output_type": "execute_result"
    }
   ],
   "source": [
    "#data balancing\n",
    "\n",
    "min_samples = 2400\n",
    "\n",
    "data_household = data[data.category==\"Household\"].sample(min_samples,random_state=42)\n",
    "data_books = data[data.category==\"Books\"].sample(min_samples,random_state=42)\n",
    "data_electronics = data[data.category==\"Electronics\"].sample(min_samples,random_state=42)\n",
    "data_clothing = data[data.category==\"Clothing & Accessories\"].sample(min_samples,random_state=42)\n",
    "\n",
    "data_balanced = pd.concat([data_household,data_books,data_electronics,data_clothing],axis=0)\n",
    "data_balanced.category.value_counts()"
   ]
  },
  {
   "cell_type": "code",
   "execution_count": 18,
   "id": "73a16b8c",
   "metadata": {},
   "outputs": [
    {
     "name": "stdout",
     "output_type": "stream",
     "text": [
      "              precision    recall  f1-score   support\n",
      "\n",
      "           0       0.95      0.97      0.96       512\n",
      "           1       0.97      0.95      0.96       502\n",
      "           2       0.99      0.99      0.99       479\n",
      "           3       0.97      0.97      0.97       507\n",
      "\n",
      "    accuracy                           0.97      2000\n",
      "   macro avg       0.97      0.97      0.97      2000\n",
      "weighted avg       0.97      0.97      0.97      2000\n",
      "\n"
     ]
    }
   ],
   "source": [
    "# Handle NaN values in 'text' column by replacing them with empty strings\n",
    "data['text'].fillna('', inplace=True)\n",
    "\n",
    "# train_test_split\n",
    "from sklearn.model_selection import train_test_split\n",
    "\n",
    "X = data['text']\n",
    "Y = data['category_um']\n",
    "\n",
    "x_train, x_test, y_train, y_test = train_test_split(X, Y, test_size=0.2, random_state=42)\n",
    "\n",
    "# pipeline\n",
    "from sklearn.pipeline import Pipeline\n",
    "from sklearn.feature_extraction.text import TfidfVectorizer\n",
    "from sklearn.naive_bayes import MultinomialNB\n",
    "from sklearn.metrics import classification_report\n",
    "\n",
    "tf = Pipeline([\n",
    "    ('vectorizer_tfidf', TfidfVectorizer()),\n",
    "    ('Multinomial', MultinomialNB())\n",
    "])\n",
    "\n",
    "# Fit the pipeline using training data\n",
    "tf.fit(x_train, y_train)\n",
    "\n",
    "# Predict using the fitted pipeline\n",
    "y_pred = tf.predict(x_test)\n",
    "\n",
    "# Evaluate the model\n",
    "print(classification_report(y_test, y_pred))\n",
    "\n"
   ]
  },
  {
   "cell_type": "code",
   "execution_count": 20,
   "id": "f54d56b9",
   "metadata": {},
   "outputs": [
    {
     "name": "stdout",
     "output_type": "stream",
     "text": [
      "Electronics\n"
     ]
    }
   ],
   "source": [
    "#predicting the content of the text\n",
    "ecom = [\"Nokia Lumia 530 (Dual SIM, Grey) Colour:Grey   Product Description Through brand licensing, Nokia licensees place high quality, high-tech, beautifully designed phones into the hands and homes of people all over the word. Bringing quality to their connected lives. HMD Global Oy is the exclusive global licensee for Nokia branded mobile phones and is creating products that live up to the high expectations consumers have of our recognized and loved brand. Since HMD became the new home of Nokia phones in December 2016, it has has been delighting people worldwide with an award-winning range of Android-based Nokia smartphones, new feature phones and recreations of original iconic Nokia phones with an up-to-date twist. \t\t\t\t    \t \t\t\t\t\t From the Manufacturer     The latest version of Windows PhoneWindows Phone 8.1 is packed with great new features. Open the Action Center with one swipe and your notifications, alerts and quick settings are all in one place. Add your favourite picture to the background of the new Start screen and discover the speed of the Word Flow keyboard. Itâ€™s the best Windows Phone experience yet.    Get your favourite appsShazam, Office, Vine, Facebook and Instagram Beta â€“ the Nokia Lumia 530 Dual SIM has the apps you need. Need more space? Add up to 128 GB of extra storage and move your apps to the SD card. Itâ€™s a great way to create space for more apps without compromising on performance.    Two is better than oneThe Nokia Lumia 530 Dual SIM comes with Smart Dual SIM. This fantastic new feature is a great way to manage your mobile costs. Use call waiting and call forwarding between your SIM cards to choose the best SIM card for the situation â€“ optimise your mobile life with Smart Dual SIM.       One place for everything in your lifeUse OneDrive to store and sync your important files across multiple devices. Your pictures, videos and documents are ready to go â€“ anytime, anywhere. And with 15GB of free storage, you have enough space for everything you need. Editing and sharing is easy too â€“ the Nokia Lumia 530 Dual SIM comes with Microsoft Office so youâ€™ll be ready to take care of business wherever you are.     More power for everyoneGood value means never compromising. Thatâ€™s why the Nokia Lumia 530 Dual SIM comes with a quad core processor, the latest version of Windows Phone and the best new apps. Whether youâ€™re messaging, socializing or gaming, the Nokia Lumia 530 Dual SIM gives you the power to have fun..\"]\n",
    "\n",
    "pred = tf.predict(ecom)\n",
    "\n",
    "if(pred==0):\n",
    "    print(\"Household\")\n",
    "elif(pred==1):\n",
    "    print(\"Books\")\n",
    "elif(pred==2):\n",
    "    print(\"Clothing & Accessories\")\n",
    "elif(pred==3):\n",
    "    print(\"Electronics\")"
   ]
  },
  {
   "cell_type": "code",
   "execution_count": null,
   "id": "0efed2b4",
   "metadata": {},
   "outputs": [],
   "source": [
    "\n"
   ]
  },
  {
   "cell_type": "code",
   "execution_count": null,
   "id": "4f6fde9c",
   "metadata": {},
   "outputs": [],
   "source": []
  }
 ],
 "metadata": {
  "kernelspec": {
   "display_name": "Python 3 (ipykernel)",
   "language": "python",
   "name": "python3"
  },
  "language_info": {
   "codemirror_mode": {
    "name": "ipython",
    "version": 3
   },
   "file_extension": ".py",
   "mimetype": "text/x-python",
   "name": "python",
   "nbconvert_exporter": "python",
   "pygments_lexer": "ipython3",
   "version": "3.10.9"
  }
 },
 "nbformat": 4,
 "nbformat_minor": 5
}
